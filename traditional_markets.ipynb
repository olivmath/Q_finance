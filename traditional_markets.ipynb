{
 "cells": [
  {
   "cell_type": "code",
   "execution_count": 1,
   "id": "cooked-planning",
   "metadata": {},
   "outputs": [],
   "source": [
    "from requests import get, post\n",
    "import pandas as pd\n",
    "import numpy as np\n",
    "import sympy as sp\n",
    "from matplotlib import pyplot as plt"
   ]
  },
  {
   "cell_type": "markdown",
   "id": "rural-scale",
   "metadata": {},
   "source": [
    "# Carga de Dados\n",
    "**Origem dos dados**\n"
   ]
  },
  {
   "cell_type": "code",
   "execution_count": 2,
   "id": "minus-mason",
   "metadata": {},
   "outputs": [],
   "source": [
    "# Endpoints\n",
    "url = 'https://api3.binance.com'\n",
    "klines = url + '/api/v3/klines'\n",
    "info = url + '/api/v3/exchangeInfo'"
   ]
  },
  {
   "cell_type": "code",
   "execution_count": 3,
   "id": "native-guess",
   "metadata": {},
   "outputs": [],
   "source": [
    "# Colunas\n",
    "col = [\n",
    "    'Open time','Open','High','Low','Close','Volume','Close time',\n",
    "    'Quote asset volume','Number of trades','Taker buy base asset volume',\n",
    "    'Taker buy quote asset volume','Ignore'\n",
    "]\n",
    "\n",
    "# Parametros\n",
    "params = {\n",
    "    \"btc\": {\n",
    "    \"symbol\": \"BTCUSDT\",\n",
    "    \"interval\": \"1d\",\n",
    "    \"limit\": 1000\n",
    "    },\n",
    "    \"eth\": { \n",
    "    \"symbol\": \"ETHUSDT\",\n",
    "    \"interval\": \"1d\",\n",
    "    \"limit\": 1000\n",
    "    },\"ltc\": { \n",
    "    \"symbol\": \"LTCUSDT\",\n",
    "    \"interval\": \"1d\",\n",
    "    \"limit\": 1000\n",
    "    }\n",
    "}"
   ]
  },
  {
   "cell_type": "code",
   "execution_count": 4,
   "id": "czech-induction",
   "metadata": {},
   "outputs": [],
   "source": [
    "def clean(x):    \n",
    "    # Obtendo dados\n",
    "    asset = get(klines, params=params[x]).json()\n",
    "\n",
    "    # Limando - > deixando apenas as colunas: (close, time_close)\n",
    "    asset = np.array(asset, dtype=float)[..., 4:8:2]\n",
    "    \n",
    "    return asset\n",
    "\n",
    "arr = np.concatenate([*map(clean, params)], axis=1)\n",
    "\n",
    "df = pd.DataFrame(arr[..., 0::2], index=arr[..., 1], columns=params.keys())"
   ]
  },
  {
   "cell_type": "markdown",
   "id": "solid-chapter",
   "metadata": {},
   "source": [
    "# Calculando Taxa de Retorno Simples\n",
    "$$\n",
    "\\frac{P_i - P_f}{P_i} = \\frac{P_f}{P_i} - 1\n",
    "$$"
   ]
  },
  {
   "cell_type": "code",
   "execution_count": 5,
   "id": "dated-estonia",
   "metadata": {},
   "outputs": [],
   "source": [
    "df['btc_return'] = (df.btc / df.btc.shift(1)) - 1\n",
    "df['eth_return'] = (df.eth / df.eth.shift(1)) - 1\n",
    "df['ltc_return'] = (df.ltc / df.ltc.shift(1)) - 1"
   ]
  },
  {
   "cell_type": "code",
   "execution_count": 9,
   "id": "thick-seventh",
   "metadata": {},
   "outputs": [
    {
     "data": {
      "text/html": [
       "<style  type=\"text/css\" >\n",
       "#T_be96c_row0_col3,#T_be96c_row0_col4,#T_be96c_row0_col5,#T_be96c_row2_col3,#T_be96c_row2_col4,#T_be96c_row2_col5,#T_be96c_row4_col3,#T_be96c_row4_col4,#T_be96c_row4_col5,#T_be96c_row5_col4,#T_be96c_row6_col3,#T_be96c_row6_col4,#T_be96c_row6_col5,#T_be96c_row7_col3,#T_be96c_row7_col4,#T_be96c_row8_col3{\n",
       "            color:  green;\n",
       "        }#T_be96c_row1_col3,#T_be96c_row1_col4,#T_be96c_row1_col5,#T_be96c_row3_col3,#T_be96c_row3_col4,#T_be96c_row3_col5,#T_be96c_row5_col3,#T_be96c_row5_col5,#T_be96c_row7_col5,#T_be96c_row8_col4,#T_be96c_row8_col5,#T_be96c_row9_col3,#T_be96c_row9_col4,#T_be96c_row9_col5{\n",
       "            color:  red;\n",
       "        }</style><table id=\"T_be96c_\" ><thead>    <tr>        <th class=\"blank level0\" ></th>        <th class=\"col_heading level0 col0\" >btc</th>        <th class=\"col_heading level0 col1\" >eth</th>        <th class=\"col_heading level0 col2\" >ltc</th>        <th class=\"col_heading level0 col3\" >btc_return</th>        <th class=\"col_heading level0 col4\" >eth_return</th>        <th class=\"col_heading level0 col5\" >ltc_return</th>    </tr></thead><tbody>\n",
       "                <tr>\n",
       "                        <th id=\"T_be96c_level0_row0\" class=\"row_heading level0 row0\" >1528847999999.0</th>\n",
       "                        <td id=\"T_be96c_row0_col0\" class=\"data row0 col0\" >6530.000000</td>\n",
       "                        <td id=\"T_be96c_row0_col1\" class=\"data row0 col1\" >493.000000</td>\n",
       "                        <td id=\"T_be96c_row0_col2\" class=\"data row0 col2\" >99.680000</td>\n",
       "                        <td id=\"T_be96c_row0_col3\" class=\"data row0 col3\" >nan</td>\n",
       "                        <td id=\"T_be96c_row0_col4\" class=\"data row0 col4\" >nan</td>\n",
       "                        <td id=\"T_be96c_row0_col5\" class=\"data row0 col5\" >nan</td>\n",
       "            </tr>\n",
       "            <tr>\n",
       "                        <th id=\"T_be96c_level0_row1\" class=\"row_heading level0 row1\" >1528934399999.0</th>\n",
       "                        <td id=\"T_be96c_row1_col0\" class=\"data row1 col0\" >6292.780000</td>\n",
       "                        <td id=\"T_be96c_row1_col1\" class=\"data row1 col1\" >475.470000</td>\n",
       "                        <td id=\"T_be96c_row1_col2\" class=\"data row1 col2\" >93.370000</td>\n",
       "                        <td id=\"T_be96c_row1_col3\" class=\"data row1 col3\" >-0.037004</td>\n",
       "                        <td id=\"T_be96c_row1_col4\" class=\"data row1 col4\" >-0.035558</td>\n",
       "                        <td id=\"T_be96c_row1_col5\" class=\"data row1 col5\" >-0.063303</td>\n",
       "            </tr>\n",
       "            <tr>\n",
       "                        <th id=\"T_be96c_level0_row2\" class=\"row_heading level0 row2\" >1529020799999.0</th>\n",
       "                        <td id=\"T_be96c_row2_col0\" class=\"data row2 col0\" >6635.980000</td>\n",
       "                        <td id=\"T_be96c_row2_col1\" class=\"data row2 col1\" >519.290000</td>\n",
       "                        <td id=\"T_be96c_row2_col2\" class=\"data row2 col2\" >100.880000</td>\n",
       "                        <td id=\"T_be96c_row2_col3\" class=\"data row2 col3\" >0.053103</td>\n",
       "                        <td id=\"T_be96c_row2_col4\" class=\"data row2 col4\" >0.092161</td>\n",
       "                        <td id=\"T_be96c_row2_col5\" class=\"data row2 col5\" >0.080433</td>\n",
       "            </tr>\n",
       "            <tr>\n",
       "                        <th id=\"T_be96c_level0_row3\" class=\"row_heading level0 row3\" >1529107199999.0</th>\n",
       "                        <td id=\"T_be96c_row3_col0\" class=\"data row3 col0\" >6388.900000</td>\n",
       "                        <td id=\"T_be96c_row3_col1\" class=\"data row3 col1\" >487.480000</td>\n",
       "                        <td id=\"T_be96c_row3_col2\" class=\"data row3 col2\" >95.500000</td>\n",
       "                        <td id=\"T_be96c_row3_col3\" class=\"data row3 col3\" >-0.037944</td>\n",
       "                        <td id=\"T_be96c_row3_col4\" class=\"data row3 col4\" >-0.061257</td>\n",
       "                        <td id=\"T_be96c_row3_col5\" class=\"data row3 col5\" >-0.053331</td>\n",
       "            </tr>\n",
       "            <tr>\n",
       "                        <th id=\"T_be96c_level0_row4\" class=\"row_heading level0 row4\" >1529193599999.0</th>\n",
       "                        <td id=\"T_be96c_row4_col0\" class=\"data row4 col0\" >6483.980000</td>\n",
       "                        <td id=\"T_be96c_row4_col1\" class=\"data row4 col1\" >496.740000</td>\n",
       "                        <td id=\"T_be96c_row4_col2\" class=\"data row4 col2\" >96.660000</td>\n",
       "                        <td id=\"T_be96c_row4_col3\" class=\"data row4 col3\" >0.014772</td>\n",
       "                        <td id=\"T_be96c_row4_col4\" class=\"data row4 col4\" >0.018996</td>\n",
       "                        <td id=\"T_be96c_row4_col5\" class=\"data row4 col5\" >0.012147</td>\n",
       "            </tr>\n",
       "            <tr>\n",
       "                        <th id=\"T_be96c_level0_row5\" class=\"row_heading level0 row5\" >1529279999999.0</th>\n",
       "                        <td id=\"T_be96c_row5_col0\" class=\"data row5 col0\" >6449.610000</td>\n",
       "                        <td id=\"T_be96c_row5_col1\" class=\"data row5 col1\" >497.140000</td>\n",
       "                        <td id=\"T_be96c_row5_col2\" class=\"data row5 col2\" >94.950000</td>\n",
       "                        <td id=\"T_be96c_row5_col3\" class=\"data row5 col3\" >-0.005315</td>\n",
       "                        <td id=\"T_be96c_row5_col4\" class=\"data row5 col4\" >0.000805</td>\n",
       "                        <td id=\"T_be96c_row5_col5\" class=\"data row5 col5\" >-0.017691</td>\n",
       "            </tr>\n",
       "            <tr>\n",
       "                        <th id=\"T_be96c_level0_row6\" class=\"row_heading level0 row6\" >1529366399999.0</th>\n",
       "                        <td id=\"T_be96c_row6_col0\" class=\"data row6 col0\" >6712.460000</td>\n",
       "                        <td id=\"T_be96c_row6_col1\" class=\"data row6 col1\" >517.950000</td>\n",
       "                        <td id=\"T_be96c_row6_col2\" class=\"data row6 col2\" >98.700000</td>\n",
       "                        <td id=\"T_be96c_row6_col3\" class=\"data row6 col3\" >0.039946</td>\n",
       "                        <td id=\"T_be96c_row6_col4\" class=\"data row6 col4\" >0.041859</td>\n",
       "                        <td id=\"T_be96c_row6_col5\" class=\"data row6 col5\" >0.039494</td>\n",
       "            </tr>\n",
       "            <tr>\n",
       "                        <th id=\"T_be96c_level0_row7\" class=\"row_heading level0 row7\" >1529452799999.0</th>\n",
       "                        <td id=\"T_be96c_row7_col0\" class=\"data row7 col0\" >6741.210000</td>\n",
       "                        <td id=\"T_be96c_row7_col1\" class=\"data row7 col1\" >537.970000</td>\n",
       "                        <td id=\"T_be96c_row7_col2\" class=\"data row7 col2\" >98.670000</td>\n",
       "                        <td id=\"T_be96c_row7_col3\" class=\"data row7 col3\" >0.004274</td>\n",
       "                        <td id=\"T_be96c_row7_col4\" class=\"data row7 col4\" >0.038652</td>\n",
       "                        <td id=\"T_be96c_row7_col5\" class=\"data row7 col5\" >-0.000304</td>\n",
       "            </tr>\n",
       "            <tr>\n",
       "                        <th id=\"T_be96c_level0_row8\" class=\"row_heading level0 row8\" >1529539199999.0</th>\n",
       "                        <td id=\"T_be96c_row8_col0\" class=\"data row8 col0\" >6761.510000</td>\n",
       "                        <td id=\"T_be96c_row8_col1\" class=\"data row8 col1\" >536.490000</td>\n",
       "                        <td id=\"T_be96c_row8_col2\" class=\"data row8 col2\" >97.720000</td>\n",
       "                        <td id=\"T_be96c_row8_col3\" class=\"data row8 col3\" >0.003007</td>\n",
       "                        <td id=\"T_be96c_row8_col4\" class=\"data row8 col4\" >-0.002751</td>\n",
       "                        <td id=\"T_be96c_row8_col5\" class=\"data row8 col5\" >-0.009628</td>\n",
       "            </tr>\n",
       "            <tr>\n",
       "                        <th id=\"T_be96c_level0_row9\" class=\"row_heading level0 row9\" >1529625599999.0</th>\n",
       "                        <td id=\"T_be96c_row9_col0\" class=\"data row9 col0\" >6718.840000</td>\n",
       "                        <td id=\"T_be96c_row9_col1\" class=\"data row9 col1\" >526.180000</td>\n",
       "                        <td id=\"T_be96c_row9_col2\" class=\"data row9 col2\" >96.720000</td>\n",
       "                        <td id=\"T_be96c_row9_col3\" class=\"data row9 col3\" >-0.006331</td>\n",
       "                        <td id=\"T_be96c_row9_col4\" class=\"data row9 col4\" >-0.019218</td>\n",
       "                        <td id=\"T_be96c_row9_col5\" class=\"data row9 col5\" >-0.010233</td>\n",
       "            </tr>\n",
       "    </tbody></table>"
      ],
      "text/plain": [
       "<pandas.io.formats.style.Styler at 0x7f1eac8e4940>"
      ]
     },
     "execution_count": 9,
     "metadata": {},
     "output_type": "execute_result"
    }
   ],
   "source": [
    "returns = ['btc_return', 'eth_return', 'ltc_return']\n",
    "f = lambda x: 'color: red' if x < 0 else 'color: green'\n",
    "df.head(10).style.applymap(f, subset=returns)"
   ]
  },
  {
   "cell_type": "markdown",
   "id": "statistical-mention",
   "metadata": {},
   "source": [
    "# Volatilidade usando Retornos Logaritmos\n",
    "\n",
    "$$\n",
    "log(\\frac{P_t}{P_{t-1}})\n",
    "$$"
   ]
  },
  {
   "cell_type": "code",
   "execution_count": 7,
   "id": "going-sociology",
   "metadata": {},
   "outputs": [],
   "source": [
    "# Calculo de Retorno\n",
    "df['btc_return'] = np.log(df.btc / df.btc.shift(1))\n",
    "df['btc_return'] = np.log(df.btc / df.btc.shift(1))\n",
    "df['btc_return'] = np.log(df.btc / df.btc.shift(1))"
   ]
  },
  {
   "cell_type": "code",
   "execution_count": 10,
   "id": "irish-gibraltar",
   "metadata": {},
   "outputs": [
    {
     "data": {
      "text/html": [
       "<style  type=\"text/css\" >\n",
       "#T_52087_row0_col3,#T_52087_row0_col4,#T_52087_row0_col5,#T_52087_row2_col3,#T_52087_row2_col4,#T_52087_row2_col5,#T_52087_row4_col3,#T_52087_row4_col4,#T_52087_row4_col5,#T_52087_row5_col4,#T_52087_row6_col3,#T_52087_row6_col4,#T_52087_row6_col5,#T_52087_row7_col3,#T_52087_row7_col4,#T_52087_row8_col3{\n",
       "            color:  green;\n",
       "        }#T_52087_row1_col3,#T_52087_row1_col4,#T_52087_row1_col5,#T_52087_row3_col3,#T_52087_row3_col4,#T_52087_row3_col5,#T_52087_row5_col3,#T_52087_row5_col5,#T_52087_row7_col5,#T_52087_row8_col4,#T_52087_row8_col5,#T_52087_row9_col3,#T_52087_row9_col4,#T_52087_row9_col5{\n",
       "            color:  red;\n",
       "        }</style><table id=\"T_52087_\" ><thead>    <tr>        <th class=\"blank level0\" ></th>        <th class=\"col_heading level0 col0\" >btc</th>        <th class=\"col_heading level0 col1\" >eth</th>        <th class=\"col_heading level0 col2\" >ltc</th>        <th class=\"col_heading level0 col3\" >btc_return</th>        <th class=\"col_heading level0 col4\" >eth_return</th>        <th class=\"col_heading level0 col5\" >ltc_return</th>    </tr></thead><tbody>\n",
       "                <tr>\n",
       "                        <th id=\"T_52087_level0_row0\" class=\"row_heading level0 row0\" >1528847999999.0</th>\n",
       "                        <td id=\"T_52087_row0_col0\" class=\"data row0 col0\" >6530.000000</td>\n",
       "                        <td id=\"T_52087_row0_col1\" class=\"data row0 col1\" >493.000000</td>\n",
       "                        <td id=\"T_52087_row0_col2\" class=\"data row0 col2\" >99.680000</td>\n",
       "                        <td id=\"T_52087_row0_col3\" class=\"data row0 col3\" >nan</td>\n",
       "                        <td id=\"T_52087_row0_col4\" class=\"data row0 col4\" >nan</td>\n",
       "                        <td id=\"T_52087_row0_col5\" class=\"data row0 col5\" >nan</td>\n",
       "            </tr>\n",
       "            <tr>\n",
       "                        <th id=\"T_52087_level0_row1\" class=\"row_heading level0 row1\" >1528934399999.0</th>\n",
       "                        <td id=\"T_52087_row1_col0\" class=\"data row1 col0\" >6292.780000</td>\n",
       "                        <td id=\"T_52087_row1_col1\" class=\"data row1 col1\" >475.470000</td>\n",
       "                        <td id=\"T_52087_row1_col2\" class=\"data row1 col2\" >93.370000</td>\n",
       "                        <td id=\"T_52087_row1_col3\" class=\"data row1 col3\" >-0.037004</td>\n",
       "                        <td id=\"T_52087_row1_col4\" class=\"data row1 col4\" >-0.035558</td>\n",
       "                        <td id=\"T_52087_row1_col5\" class=\"data row1 col5\" >-0.063303</td>\n",
       "            </tr>\n",
       "            <tr>\n",
       "                        <th id=\"T_52087_level0_row2\" class=\"row_heading level0 row2\" >1529020799999.0</th>\n",
       "                        <td id=\"T_52087_row2_col0\" class=\"data row2 col0\" >6635.980000</td>\n",
       "                        <td id=\"T_52087_row2_col1\" class=\"data row2 col1\" >519.290000</td>\n",
       "                        <td id=\"T_52087_row2_col2\" class=\"data row2 col2\" >100.880000</td>\n",
       "                        <td id=\"T_52087_row2_col3\" class=\"data row2 col3\" >0.053103</td>\n",
       "                        <td id=\"T_52087_row2_col4\" class=\"data row2 col4\" >0.092161</td>\n",
       "                        <td id=\"T_52087_row2_col5\" class=\"data row2 col5\" >0.080433</td>\n",
       "            </tr>\n",
       "            <tr>\n",
       "                        <th id=\"T_52087_level0_row3\" class=\"row_heading level0 row3\" >1529107199999.0</th>\n",
       "                        <td id=\"T_52087_row3_col0\" class=\"data row3 col0\" >6388.900000</td>\n",
       "                        <td id=\"T_52087_row3_col1\" class=\"data row3 col1\" >487.480000</td>\n",
       "                        <td id=\"T_52087_row3_col2\" class=\"data row3 col2\" >95.500000</td>\n",
       "                        <td id=\"T_52087_row3_col3\" class=\"data row3 col3\" >-0.037944</td>\n",
       "                        <td id=\"T_52087_row3_col4\" class=\"data row3 col4\" >-0.061257</td>\n",
       "                        <td id=\"T_52087_row3_col5\" class=\"data row3 col5\" >-0.053331</td>\n",
       "            </tr>\n",
       "            <tr>\n",
       "                        <th id=\"T_52087_level0_row4\" class=\"row_heading level0 row4\" >1529193599999.0</th>\n",
       "                        <td id=\"T_52087_row4_col0\" class=\"data row4 col0\" >6483.980000</td>\n",
       "                        <td id=\"T_52087_row4_col1\" class=\"data row4 col1\" >496.740000</td>\n",
       "                        <td id=\"T_52087_row4_col2\" class=\"data row4 col2\" >96.660000</td>\n",
       "                        <td id=\"T_52087_row4_col3\" class=\"data row4 col3\" >0.014772</td>\n",
       "                        <td id=\"T_52087_row4_col4\" class=\"data row4 col4\" >0.018996</td>\n",
       "                        <td id=\"T_52087_row4_col5\" class=\"data row4 col5\" >0.012147</td>\n",
       "            </tr>\n",
       "            <tr>\n",
       "                        <th id=\"T_52087_level0_row5\" class=\"row_heading level0 row5\" >1529279999999.0</th>\n",
       "                        <td id=\"T_52087_row5_col0\" class=\"data row5 col0\" >6449.610000</td>\n",
       "                        <td id=\"T_52087_row5_col1\" class=\"data row5 col1\" >497.140000</td>\n",
       "                        <td id=\"T_52087_row5_col2\" class=\"data row5 col2\" >94.950000</td>\n",
       "                        <td id=\"T_52087_row5_col3\" class=\"data row5 col3\" >-0.005315</td>\n",
       "                        <td id=\"T_52087_row5_col4\" class=\"data row5 col4\" >0.000805</td>\n",
       "                        <td id=\"T_52087_row5_col5\" class=\"data row5 col5\" >-0.017691</td>\n",
       "            </tr>\n",
       "            <tr>\n",
       "                        <th id=\"T_52087_level0_row6\" class=\"row_heading level0 row6\" >1529366399999.0</th>\n",
       "                        <td id=\"T_52087_row6_col0\" class=\"data row6 col0\" >6712.460000</td>\n",
       "                        <td id=\"T_52087_row6_col1\" class=\"data row6 col1\" >517.950000</td>\n",
       "                        <td id=\"T_52087_row6_col2\" class=\"data row6 col2\" >98.700000</td>\n",
       "                        <td id=\"T_52087_row6_col3\" class=\"data row6 col3\" >0.039946</td>\n",
       "                        <td id=\"T_52087_row6_col4\" class=\"data row6 col4\" >0.041859</td>\n",
       "                        <td id=\"T_52087_row6_col5\" class=\"data row6 col5\" >0.039494</td>\n",
       "            </tr>\n",
       "            <tr>\n",
       "                        <th id=\"T_52087_level0_row7\" class=\"row_heading level0 row7\" >1529452799999.0</th>\n",
       "                        <td id=\"T_52087_row7_col0\" class=\"data row7 col0\" >6741.210000</td>\n",
       "                        <td id=\"T_52087_row7_col1\" class=\"data row7 col1\" >537.970000</td>\n",
       "                        <td id=\"T_52087_row7_col2\" class=\"data row7 col2\" >98.670000</td>\n",
       "                        <td id=\"T_52087_row7_col3\" class=\"data row7 col3\" >0.004274</td>\n",
       "                        <td id=\"T_52087_row7_col4\" class=\"data row7 col4\" >0.038652</td>\n",
       "                        <td id=\"T_52087_row7_col5\" class=\"data row7 col5\" >-0.000304</td>\n",
       "            </tr>\n",
       "            <tr>\n",
       "                        <th id=\"T_52087_level0_row8\" class=\"row_heading level0 row8\" >1529539199999.0</th>\n",
       "                        <td id=\"T_52087_row8_col0\" class=\"data row8 col0\" >6761.510000</td>\n",
       "                        <td id=\"T_52087_row8_col1\" class=\"data row8 col1\" >536.490000</td>\n",
       "                        <td id=\"T_52087_row8_col2\" class=\"data row8 col2\" >97.720000</td>\n",
       "                        <td id=\"T_52087_row8_col3\" class=\"data row8 col3\" >0.003007</td>\n",
       "                        <td id=\"T_52087_row8_col4\" class=\"data row8 col4\" >-0.002751</td>\n",
       "                        <td id=\"T_52087_row8_col5\" class=\"data row8 col5\" >-0.009628</td>\n",
       "            </tr>\n",
       "            <tr>\n",
       "                        <th id=\"T_52087_level0_row9\" class=\"row_heading level0 row9\" >1529625599999.0</th>\n",
       "                        <td id=\"T_52087_row9_col0\" class=\"data row9 col0\" >6718.840000</td>\n",
       "                        <td id=\"T_52087_row9_col1\" class=\"data row9 col1\" >526.180000</td>\n",
       "                        <td id=\"T_52087_row9_col2\" class=\"data row9 col2\" >96.720000</td>\n",
       "                        <td id=\"T_52087_row9_col3\" class=\"data row9 col3\" >-0.006331</td>\n",
       "                        <td id=\"T_52087_row9_col4\" class=\"data row9 col4\" >-0.019218</td>\n",
       "                        <td id=\"T_52087_row9_col5\" class=\"data row9 col5\" >-0.010233</td>\n",
       "            </tr>\n",
       "    </tbody></table>"
      ],
      "text/plain": [
       "<pandas.io.formats.style.Styler at 0x7f1eac8e4fa0>"
      ]
     },
     "execution_count": 10,
     "metadata": {},
     "output_type": "execute_result"
    }
   ],
   "source": [
    "f = lambda x: 'color: red' if x < 0 else 'color: green'\n",
    "df.head(10).style.applymap(f, subset=returns)"
   ]
  },
  {
   "cell_type": "markdown",
   "id": "agricultural-federal",
   "metadata": {},
   "source": [
    "### Análise do BTC, ETH e LTC"
   ]
  },
  {
   "cell_type": "code",
   "execution_count": 1,
   "id": "dedicated-juice",
   "metadata": {},
   "outputs": [
    {
     "ename": "NameError",
     "evalue": "name 'pd' is not defined",
     "output_type": "error",
     "traceback": [
      "\u001b[0;31m---------------------------------------------------------------------------\u001b[0m",
      "\u001b[0;31mNameError\u001b[0m                                 Traceback (most recent call last)",
      "\u001b[0;32m<ipython-input-1-9d317d870a65>\u001b[0m in \u001b[0;36m<module>\u001b[0;34m\u001b[0m\n\u001b[1;32m     11\u001b[0m \u001b[0mcol\u001b[0m \u001b[0;34m=\u001b[0m \u001b[0;34m[\u001b[0m\u001b[0;34m'Retorno Médio Diário'\u001b[0m\u001b[0;34m,\u001b[0m \u001b[0;34m'Retorno Médio Anual'\u001b[0m\u001b[0;34m,\u001b[0m \u001b[0;34m'Desvio Padrão Diário'\u001b[0m\u001b[0;34m,\u001b[0m \u001b[0;34m'Desvio Padrão Anual'\u001b[0m\u001b[0;34m]\u001b[0m\u001b[0;34m\u001b[0m\u001b[0;34m\u001b[0m\u001b[0m\n\u001b[1;32m     12\u001b[0m \u001b[0;34m\u001b[0m\u001b[0m\n\u001b[0;32m---> 13\u001b[0;31m \u001b[0mdf_return\u001b[0m \u001b[0;34m=\u001b[0m \u001b[0mpd\u001b[0m\u001b[0;34m.\u001b[0m\u001b[0mDataFrame\u001b[0m\u001b[0;34m(\u001b[0m\u001b[0mmap\u001b[0m\u001b[0;34m(\u001b[0m\u001b[0mf\u001b[0m\u001b[0;34m,\u001b[0m \u001b[0mreturns\u001b[0m\u001b[0;34m)\u001b[0m\u001b[0;34m,\u001b[0m \u001b[0mindex\u001b[0m\u001b[0;34m=\u001b[0m\u001b[0mreturns\u001b[0m\u001b[0;34m,\u001b[0m \u001b[0mcolumns\u001b[0m\u001b[0;34m=\u001b[0m\u001b[0mcol\u001b[0m\u001b[0;34m)\u001b[0m\u001b[0;34m\u001b[0m\u001b[0;34m\u001b[0m\u001b[0m\n\u001b[0m",
      "\u001b[0;31mNameError\u001b[0m: name 'pd' is not defined"
     ]
    }
   ],
   "source": [
    "def f(asset):\n",
    "    x = df[asset].mean() * 100\n",
    "    \n",
    "    y = df[asset].mean() * 365 * 100\n",
    "\n",
    "    z = df[asset].std() * 100\n",
    "\n",
    "    w = df[asset].std() * 365 ** 0.5 * 100\n",
    "    return [x,y,z,w]\n",
    "\n",
    "col = ['Retorno Médio Diário', 'Retorno Médio Anual', 'Desvio Padrão Diário', 'Desvio Padrão Anual']\n",
    "\n",
    "df_return = pd.DataFrame(map(f, returns), index=returns, columns=col)"
   ]
  },
  {
   "cell_type": "code",
   "execution_count": null,
   "id": "blessed-artist",
   "metadata": {},
   "outputs": [],
   "source": [
    "df_return.style.format('{:.2f}%')"
   ]
  },
  {
   "cell_type": "code",
   "execution_count": null,
   "id": "widespread-print",
   "metadata": {},
   "outputs": [],
   "source": []
  }
 ],
 "metadata": {
  "kernelspec": {
   "display_name": "Finance",
   "language": "python",
   "name": "finance"
  },
  "language_info": {
   "codemirror_mode": {
    "name": "ipython",
    "version": 3
   },
   "file_extension": ".py",
   "mimetype": "text/x-python",
   "name": "python",
   "nbconvert_exporter": "python",
   "pygments_lexer": "ipython3",
   "version": "3.8.5"
  }
 },
 "nbformat": 4,
 "nbformat_minor": 5
}
